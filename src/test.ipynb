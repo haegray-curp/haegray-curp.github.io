{
 "cells": [
  {
   "cell_type": "code",
   "execution_count": 25,
   "metadata": {},
   "outputs": [],
   "source": [
    "import pandas as pd\n",
    "df = pd.read_csv(\"./capstone/capstone_data/2017_1.csv\")\n",
    "cols = df.columns"
   ]
  },
  {
   "cell_type": "code",
   "execution_count": 26,
   "metadata": {},
   "outputs": [
    {
     "name": "stderr",
     "output_type": "stream",
     "text": [
      "/tmp/ipykernel_11686/2203831873.py:10: FutureWarning: The default dtype for empty Series will be 'object' instead of 'float64' in a future version. Specify a dtype explicitly to silence this warning.\n",
      "  df[\"body_3s\"] = body_3s.apply(pd.Series).stack().reset_index(drop=True)\n"
     ]
    }
   ],
   "source": [
    "import nltk\n",
    "from nltk.tokenize import sent_tokenize, word_tokenize\n",
    "# nltk.download('punkt')\n",
    "\n",
    "df[\"body_sentToks\"] = df[\"body\"].apply(lambda x :sent_tokenize(x))\n",
    "body_3s = df[\"body_sentToks\"].apply(lambda l : [l[i-1:i+2] for i in range(1,len(l)-2)])\n",
    "\n",
    "df[\"repeat\"] = body_3s.apply(lambda x : len(x))\n",
    "df = df.loc[df.index.repeat(df['repeat'])].reset_index(drop=True).drop('repeat', axis=1)\n",
    "df[\"body_3s\"] = body_3s.apply(pd.Series).stack().reset_index(drop=True) \n"
   ]
  },
  {
   "cell_type": "code",
   "execution_count": 27,
   "metadata": {},
   "outputs": [],
   "source": [
    "df[\"body\"] = df[\"body_3s\"].apply(lambda x: \".\".join(x))\n"
   ]
  },
  {
   "cell_type": "code",
   "execution_count": 28,
   "metadata": {},
   "outputs": [],
   "source": [
    "df[cols].to_csv(\"./capstone/capstone_data/2017_1_3s.csv\")"
   ]
  },
  {
   "cell_type": "code",
   "execution_count": null,
   "metadata": {},
   "outputs": [],
   "source": []
  }
 ],
 "metadata": {
  "kernelspec": {
   "display_name": "Python 3.8.13 ('base')",
   "language": "python",
   "name": "python3"
  },
  "language_info": {
   "codemirror_mode": {
    "name": "ipython",
    "version": 3
   },
   "file_extension": ".py",
   "mimetype": "text/x-python",
   "name": "python",
   "nbconvert_exporter": "python",
   "pygments_lexer": "ipython3",
   "version": "3.8.13"
  },
  "orig_nbformat": 4,
  "vscode": {
   "interpreter": {
    "hash": "d4d1e4263499bec80672ea0156c357c1ee493ec2b1c70f0acce89fc37c4a6abe"
   }
  }
 },
 "nbformat": 4,
 "nbformat_minor": 2
}
